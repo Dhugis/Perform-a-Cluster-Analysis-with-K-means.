{
  "nbformat": 4,
  "nbformat_minor": 0,
  "metadata": {
    "colab": {
      "provenance": []
    },
    "kernelspec": {
      "name": "python3",
      "display_name": "Python 3"
    },
    "language_info": {
      "name": "python"
    }
  },
  "cells": [
    {
      "cell_type": "markdown",
      "source": [
        "Instructions\n",
        "\n",
        "This activity is broken down into four parts:\n",
        "\n",
        "Part 1: Prepare the Data.\n",
        "\n",
        "Part 2: Apply Dimensionality Reduction.\n",
        "*italicized text*\n",
        "Part 3: Perform a Cluster Analysis with K-means.\n",
        "\n",
        "Part 4: Make a Recommendation"
      ],
      "metadata": {
        "id": "xNS5x8GgYc7b"
      }
    },
    {
      "cell_type": "markdown",
      "source": [],
      "metadata": {
        "id": "afFqpFUnJBLn"
      }
    },
    {
      "cell_type": "markdown",
      "source": [
        "Part 1: Prepare the Data\n",
        "\n"
      ],
      "metadata": {
        "id": "nWHeU_o3Yn3u"
      }
    },
    {
      "cell_type": "code",
      "source": [
        "# Dependencies\n",
        "import pandas as pd\n",
        "import matplotlib.pyplot as plt\n",
        "import numpy as np\n",
        "from pathlib import Path\n",
        "from sklearn.preprocessing import StandardScaler\n",
        "from sklearn.decomposition import PCA\n",
        "from sklearn.cluster import KMeans\n",
        "from sklearn.manifold import TSNE\n",
        "import warnings\n",
        "warnings.filterwarnings('ignore')\n"
      ],
      "metadata": {
        "id": "1XCEuuXEdrxg"
      },
      "execution_count": null,
      "outputs": []
    },
    {
      "cell_type": "markdown",
      "source": [
        " Prepare the Data Read myopia.csv into a Pandas DataFrame."
      ],
      "metadata": {
        "id": "20WZwR6zKxkv"
      }
    },
    {
      "cell_type": "code",
      "source": [
        "# Read myopia.csv into a Pandas DataFrame.\n",
        "file_path = Path('/content/sample_data/myopia.csv')\n",
        "df = pd.read_csv(file_path)\n",
        "df"
      ],
      "metadata": {
        "colab": {
          "base_uri": "https://localhost:8080/",
          "height": 488
        },
        "id": "XU6XN4DNd6Pq",
        "outputId": "0dbb4e87-4a01-4fa6-a4ad-0262e082cc4d"
      },
      "execution_count": null,
      "outputs": [
        {
          "output_type": "execute_result",
          "data": {
            "text/plain": [
              "    ID;\"STUDYYEAR\";\"MYOPIC\";\"AGE\";\"GENDER\";\"SPHEQ\";\"AL\";\"ACD\";\"LT\";\"VCD\";\"SPORTHR\";\"READHR\";\"COMPHR\";\"STUDYHR\";\"TVHR\";\"DIOPTERHR\";\"MOMMY\";\"DADMY\"\n",
              "0    1;1992;1;6;1;-0.052;21.89;3.69;3.498;14.7;45;8...                                                                                           \n",
              "1    2;1995;0;6;1;0.608;22.38;3.702;3.392;15.29;4;0...                                                                                           \n",
              "2    3;1991;0;6;1;1.179;22.49;3.462;3.514;15.52;14;...                                                                                           \n",
              "3    4;1990;1;6;1;0.525;22.2;3.862;3.612;14.73;18;1...                                                                                           \n",
              "4    5;1995;0;5;0;0.697;23.29;3.676;3.454;16.16;14;...                                                                                           \n",
              "..                                                 ...                                                                                           \n",
              "613  614;1995;1;6;0;0.678;22.4;3.663;3.803;14.93;2;...                                                                                           \n",
              "614  615;1993;0;6;1;0.665;22.5;3.57;3.378;15.56;6;0...                                                                                           \n",
              "615  616;1995;0;6;0;1.834;22.94;3.624;3.424;15.89;8...                                                                                           \n",
              "616  617;1991;0;6;1;0.665;21.92;3.688;3.598;14.64;1...                                                                                           \n",
              "617  618;1994;0;6;0;0.802;22.26;3.53;3.484;15.25;25...                                                                                           \n",
              "\n",
              "[618 rows x 1 columns]"
            ],
            "text/html": [
              "\n",
              "  <div id=\"df-a2929682-e278-4c9b-95b2-948d44d3a5c9\">\n",
              "    <div class=\"colab-df-container\">\n",
              "      <div>\n",
              "<style scoped>\n",
              "    .dataframe tbody tr th:only-of-type {\n",
              "        vertical-align: middle;\n",
              "    }\n",
              "\n",
              "    .dataframe tbody tr th {\n",
              "        vertical-align: top;\n",
              "    }\n",
              "\n",
              "    .dataframe thead th {\n",
              "        text-align: right;\n",
              "    }\n",
              "</style>\n",
              "<table border=\"1\" class=\"dataframe\">\n",
              "  <thead>\n",
              "    <tr style=\"text-align: right;\">\n",
              "      <th></th>\n",
              "      <th>ID;\"STUDYYEAR\";\"MYOPIC\";\"AGE\";\"GENDER\";\"SPHEQ\";\"AL\";\"ACD\";\"LT\";\"VCD\";\"SPORTHR\";\"READHR\";\"COMPHR\";\"STUDYHR\";\"TVHR\";\"DIOPTERHR\";\"MOMMY\";\"DADMY\"</th>\n",
              "    </tr>\n",
              "  </thead>\n",
              "  <tbody>\n",
              "    <tr>\n",
              "      <th>0</th>\n",
              "      <td>1;1992;1;6;1;-0.052;21.89;3.69;3.498;14.7;45;8...</td>\n",
              "    </tr>\n",
              "    <tr>\n",
              "      <th>1</th>\n",
              "      <td>2;1995;0;6;1;0.608;22.38;3.702;3.392;15.29;4;0...</td>\n",
              "    </tr>\n",
              "    <tr>\n",
              "      <th>2</th>\n",
              "      <td>3;1991;0;6;1;1.179;22.49;3.462;3.514;15.52;14;...</td>\n",
              "    </tr>\n",
              "    <tr>\n",
              "      <th>3</th>\n",
              "      <td>4;1990;1;6;1;0.525;22.2;3.862;3.612;14.73;18;1...</td>\n",
              "    </tr>\n",
              "    <tr>\n",
              "      <th>4</th>\n",
              "      <td>5;1995;0;5;0;0.697;23.29;3.676;3.454;16.16;14;...</td>\n",
              "    </tr>\n",
              "    <tr>\n",
              "      <th>...</th>\n",
              "      <td>...</td>\n",
              "    </tr>\n",
              "    <tr>\n",
              "      <th>613</th>\n",
              "      <td>614;1995;1;6;0;0.678;22.4;3.663;3.803;14.93;2;...</td>\n",
              "    </tr>\n",
              "    <tr>\n",
              "      <th>614</th>\n",
              "      <td>615;1993;0;6;1;0.665;22.5;3.57;3.378;15.56;6;0...</td>\n",
              "    </tr>\n",
              "    <tr>\n",
              "      <th>615</th>\n",
              "      <td>616;1995;0;6;0;1.834;22.94;3.624;3.424;15.89;8...</td>\n",
              "    </tr>\n",
              "    <tr>\n",
              "      <th>616</th>\n",
              "      <td>617;1991;0;6;1;0.665;21.92;3.688;3.598;14.64;1...</td>\n",
              "    </tr>\n",
              "    <tr>\n",
              "      <th>617</th>\n",
              "      <td>618;1994;0;6;0;0.802;22.26;3.53;3.484;15.25;25...</td>\n",
              "    </tr>\n",
              "  </tbody>\n",
              "</table>\n",
              "<p>618 rows × 1 columns</p>\n",
              "</div>\n",
              "      <button class=\"colab-df-convert\" onclick=\"convertToInteractive('df-a2929682-e278-4c9b-95b2-948d44d3a5c9')\"\n",
              "              title=\"Convert this dataframe to an interactive table.\"\n",
              "              style=\"display:none;\">\n",
              "        \n",
              "  <svg xmlns=\"http://www.w3.org/2000/svg\" height=\"24px\"viewBox=\"0 0 24 24\"\n",
              "       width=\"24px\">\n",
              "    <path d=\"M0 0h24v24H0V0z\" fill=\"none\"/>\n",
              "    <path d=\"M18.56 5.44l.94 2.06.94-2.06 2.06-.94-2.06-.94-.94-2.06-.94 2.06-2.06.94zm-11 1L8.5 8.5l.94-2.06 2.06-.94-2.06-.94L8.5 2.5l-.94 2.06-2.06.94zm10 10l.94 2.06.94-2.06 2.06-.94-2.06-.94-.94-2.06-.94 2.06-2.06.94z\"/><path d=\"M17.41 7.96l-1.37-1.37c-.4-.4-.92-.59-1.43-.59-.52 0-1.04.2-1.43.59L10.3 9.45l-7.72 7.72c-.78.78-.78 2.05 0 2.83L4 21.41c.39.39.9.59 1.41.59.51 0 1.02-.2 1.41-.59l7.78-7.78 2.81-2.81c.8-.78.8-2.07 0-2.86zM5.41 20L4 18.59l7.72-7.72 1.47 1.35L5.41 20z\"/>\n",
              "  </svg>\n",
              "      </button>\n",
              "      \n",
              "  <style>\n",
              "    .colab-df-container {\n",
              "      display:flex;\n",
              "      flex-wrap:wrap;\n",
              "      gap: 12px;\n",
              "    }\n",
              "\n",
              "    .colab-df-convert {\n",
              "      background-color: #E8F0FE;\n",
              "      border: none;\n",
              "      border-radius: 50%;\n",
              "      cursor: pointer;\n",
              "      display: none;\n",
              "      fill: #1967D2;\n",
              "      height: 32px;\n",
              "      padding: 0 0 0 0;\n",
              "      width: 32px;\n",
              "    }\n",
              "\n",
              "    .colab-df-convert:hover {\n",
              "      background-color: #E2EBFA;\n",
              "      box-shadow: 0px 1px 2px rgba(60, 64, 67, 0.3), 0px 1px 3px 1px rgba(60, 64, 67, 0.15);\n",
              "      fill: #174EA6;\n",
              "    }\n",
              "\n",
              "    [theme=dark] .colab-df-convert {\n",
              "      background-color: #3B4455;\n",
              "      fill: #D2E3FC;\n",
              "    }\n",
              "\n",
              "    [theme=dark] .colab-df-convert:hover {\n",
              "      background-color: #434B5C;\n",
              "      box-shadow: 0px 1px 3px 1px rgba(0, 0, 0, 0.15);\n",
              "      filter: drop-shadow(0px 1px 2px rgba(0, 0, 0, 0.3));\n",
              "      fill: #FFFFFF;\n",
              "    }\n",
              "  </style>\n",
              "\n",
              "      <script>\n",
              "        const buttonEl =\n",
              "          document.querySelector('#df-a2929682-e278-4c9b-95b2-948d44d3a5c9 button.colab-df-convert');\n",
              "        buttonEl.style.display =\n",
              "          google.colab.kernel.accessAllowed ? 'block' : 'none';\n",
              "\n",
              "        async function convertToInteractive(key) {\n",
              "          const element = document.querySelector('#df-a2929682-e278-4c9b-95b2-948d44d3a5c9');\n",
              "          const dataTable =\n",
              "            await google.colab.kernel.invokeFunction('convertToInteractive',\n",
              "                                                     [key], {});\n",
              "          if (!dataTable) return;\n",
              "\n",
              "          const docLinkHtml = 'Like what you see? Visit the ' +\n",
              "            '<a target=\"_blank\" href=https://colab.research.google.com/notebooks/data_table.ipynb>data table notebook</a>'\n",
              "            + ' to learn more about interactive tables.';\n",
              "          element.innerHTML = '';\n",
              "          dataTable['output_type'] = 'display_data';\n",
              "          await google.colab.output.renderOutput(dataTable, element);\n",
              "          const docLink = document.createElement('div');\n",
              "          docLink.innerHTML = docLinkHtml;\n",
              "          element.appendChild(docLink);\n",
              "        }\n",
              "      </script>\n",
              "    </div>\n",
              "  </div>\n",
              "  "
            ]
          },
          "metadata": {},
          "execution_count": 7
        }
      ]
    },
    {
      "cell_type": "code",
      "source": [
        "data = pd.read_csv('/content/sample_data/myopia.csv', sep = ';')\n",
        "# only look at age = 6\n",
        "data = data[data.AGE == 6]\n",
        "# add a column PARENTMY = MOMMY + DADMY\n",
        "data = data.assign(PARENTMY = data.MOMMY + data.DADMY)\n",
        "# other dependencies among features\n",
        "# DIOPTERHR = 3x(READHR + STUDYHR) + 2xCOMPHR + TVHR\n",
        "# AL = ACD + VCD + LT"
      ],
      "metadata": {
        "id": "WDH3Hmk7eRRE"
      },
      "execution_count": null,
      "outputs": []
    },
    {
      "cell_type": "code",
      "source": [
        "data.head()"
      ],
      "metadata": {
        "colab": {
          "base_uri": "https://localhost:8080/",
          "height": 270
        },
        "id": "GoA2UHlUfTCE",
        "outputId": "036ad74e-ffdc-4f8a-bd0f-8a6e1e87cb5d"
      },
      "execution_count": null,
      "outputs": [
        {
          "output_type": "execute_result",
          "data": {
            "text/plain": [
              "   ID  STUDYYEAR  MYOPIC  AGE  GENDER  SPHEQ     AL    ACD     LT    VCD  \\\n",
              "0   1       1992       1    6       1 -0.052  21.89  3.690  3.498  14.70   \n",
              "1   2       1995       0    6       1  0.608  22.38  3.702  3.392  15.29   \n",
              "2   3       1991       0    6       1  1.179  22.49  3.462  3.514  15.52   \n",
              "3   4       1990       1    6       1  0.525  22.20  3.862  3.612  14.73   \n",
              "5   6       1995       0    6       0  1.744  22.14  3.224  3.556  15.36   \n",
              "\n",
              "   SPORTHR  READHR  COMPHR  STUDYHR  TVHR  DIOPTERHR  MOMMY  DADMY  PARENTMY  \n",
              "0       45       8       0        0    10         34      1      1         2  \n",
              "1        4       0       1        1     7         12      1      1         2  \n",
              "2       14       0       2        0    10         14      0      0         0  \n",
              "3       18      11       0        0     4         37      0      1         1  \n",
              "5       10       6       2        1    19         44      0      1         1  "
            ],
            "text/html": [
              "\n",
              "  <div id=\"df-f500217f-d4ae-4d40-80cb-ab95f41419c0\">\n",
              "    <div class=\"colab-df-container\">\n",
              "      <div>\n",
              "<style scoped>\n",
              "    .dataframe tbody tr th:only-of-type {\n",
              "        vertical-align: middle;\n",
              "    }\n",
              "\n",
              "    .dataframe tbody tr th {\n",
              "        vertical-align: top;\n",
              "    }\n",
              "\n",
              "    .dataframe thead th {\n",
              "        text-align: right;\n",
              "    }\n",
              "</style>\n",
              "<table border=\"1\" class=\"dataframe\">\n",
              "  <thead>\n",
              "    <tr style=\"text-align: right;\">\n",
              "      <th></th>\n",
              "      <th>ID</th>\n",
              "      <th>STUDYYEAR</th>\n",
              "      <th>MYOPIC</th>\n",
              "      <th>AGE</th>\n",
              "      <th>GENDER</th>\n",
              "      <th>SPHEQ</th>\n",
              "      <th>AL</th>\n",
              "      <th>ACD</th>\n",
              "      <th>LT</th>\n",
              "      <th>VCD</th>\n",
              "      <th>SPORTHR</th>\n",
              "      <th>READHR</th>\n",
              "      <th>COMPHR</th>\n",
              "      <th>STUDYHR</th>\n",
              "      <th>TVHR</th>\n",
              "      <th>DIOPTERHR</th>\n",
              "      <th>MOMMY</th>\n",
              "      <th>DADMY</th>\n",
              "      <th>PARENTMY</th>\n",
              "    </tr>\n",
              "  </thead>\n",
              "  <tbody>\n",
              "    <tr>\n",
              "      <th>0</th>\n",
              "      <td>1</td>\n",
              "      <td>1992</td>\n",
              "      <td>1</td>\n",
              "      <td>6</td>\n",
              "      <td>1</td>\n",
              "      <td>-0.052</td>\n",
              "      <td>21.89</td>\n",
              "      <td>3.690</td>\n",
              "      <td>3.498</td>\n",
              "      <td>14.70</td>\n",
              "      <td>45</td>\n",
              "      <td>8</td>\n",
              "      <td>0</td>\n",
              "      <td>0</td>\n",
              "      <td>10</td>\n",
              "      <td>34</td>\n",
              "      <td>1</td>\n",
              "      <td>1</td>\n",
              "      <td>2</td>\n",
              "    </tr>\n",
              "    <tr>\n",
              "      <th>1</th>\n",
              "      <td>2</td>\n",
              "      <td>1995</td>\n",
              "      <td>0</td>\n",
              "      <td>6</td>\n",
              "      <td>1</td>\n",
              "      <td>0.608</td>\n",
              "      <td>22.38</td>\n",
              "      <td>3.702</td>\n",
              "      <td>3.392</td>\n",
              "      <td>15.29</td>\n",
              "      <td>4</td>\n",
              "      <td>0</td>\n",
              "      <td>1</td>\n",
              "      <td>1</td>\n",
              "      <td>7</td>\n",
              "      <td>12</td>\n",
              "      <td>1</td>\n",
              "      <td>1</td>\n",
              "      <td>2</td>\n",
              "    </tr>\n",
              "    <tr>\n",
              "      <th>2</th>\n",
              "      <td>3</td>\n",
              "      <td>1991</td>\n",
              "      <td>0</td>\n",
              "      <td>6</td>\n",
              "      <td>1</td>\n",
              "      <td>1.179</td>\n",
              "      <td>22.49</td>\n",
              "      <td>3.462</td>\n",
              "      <td>3.514</td>\n",
              "      <td>15.52</td>\n",
              "      <td>14</td>\n",
              "      <td>0</td>\n",
              "      <td>2</td>\n",
              "      <td>0</td>\n",
              "      <td>10</td>\n",
              "      <td>14</td>\n",
              "      <td>0</td>\n",
              "      <td>0</td>\n",
              "      <td>0</td>\n",
              "    </tr>\n",
              "    <tr>\n",
              "      <th>3</th>\n",
              "      <td>4</td>\n",
              "      <td>1990</td>\n",
              "      <td>1</td>\n",
              "      <td>6</td>\n",
              "      <td>1</td>\n",
              "      <td>0.525</td>\n",
              "      <td>22.20</td>\n",
              "      <td>3.862</td>\n",
              "      <td>3.612</td>\n",
              "      <td>14.73</td>\n",
              "      <td>18</td>\n",
              "      <td>11</td>\n",
              "      <td>0</td>\n",
              "      <td>0</td>\n",
              "      <td>4</td>\n",
              "      <td>37</td>\n",
              "      <td>0</td>\n",
              "      <td>1</td>\n",
              "      <td>1</td>\n",
              "    </tr>\n",
              "    <tr>\n",
              "      <th>5</th>\n",
              "      <td>6</td>\n",
              "      <td>1995</td>\n",
              "      <td>0</td>\n",
              "      <td>6</td>\n",
              "      <td>0</td>\n",
              "      <td>1.744</td>\n",
              "      <td>22.14</td>\n",
              "      <td>3.224</td>\n",
              "      <td>3.556</td>\n",
              "      <td>15.36</td>\n",
              "      <td>10</td>\n",
              "      <td>6</td>\n",
              "      <td>2</td>\n",
              "      <td>1</td>\n",
              "      <td>19</td>\n",
              "      <td>44</td>\n",
              "      <td>0</td>\n",
              "      <td>1</td>\n",
              "      <td>1</td>\n",
              "    </tr>\n",
              "  </tbody>\n",
              "</table>\n",
              "</div>\n",
              "      <button class=\"colab-df-convert\" onclick=\"convertToInteractive('df-f500217f-d4ae-4d40-80cb-ab95f41419c0')\"\n",
              "              title=\"Convert this dataframe to an interactive table.\"\n",
              "              style=\"display:none;\">\n",
              "        \n",
              "  <svg xmlns=\"http://www.w3.org/2000/svg\" height=\"24px\"viewBox=\"0 0 24 24\"\n",
              "       width=\"24px\">\n",
              "    <path d=\"M0 0h24v24H0V0z\" fill=\"none\"/>\n",
              "    <path d=\"M18.56 5.44l.94 2.06.94-2.06 2.06-.94-2.06-.94-.94-2.06-.94 2.06-2.06.94zm-11 1L8.5 8.5l.94-2.06 2.06-.94-2.06-.94L8.5 2.5l-.94 2.06-2.06.94zm10 10l.94 2.06.94-2.06 2.06-.94-2.06-.94-.94-2.06-.94 2.06-2.06.94z\"/><path d=\"M17.41 7.96l-1.37-1.37c-.4-.4-.92-.59-1.43-.59-.52 0-1.04.2-1.43.59L10.3 9.45l-7.72 7.72c-.78.78-.78 2.05 0 2.83L4 21.41c.39.39.9.59 1.41.59.51 0 1.02-.2 1.41-.59l7.78-7.78 2.81-2.81c.8-.78.8-2.07 0-2.86zM5.41 20L4 18.59l7.72-7.72 1.47 1.35L5.41 20z\"/>\n",
              "  </svg>\n",
              "      </button>\n",
              "      \n",
              "  <style>\n",
              "    .colab-df-container {\n",
              "      display:flex;\n",
              "      flex-wrap:wrap;\n",
              "      gap: 12px;\n",
              "    }\n",
              "\n",
              "    .colab-df-convert {\n",
              "      background-color: #E8F0FE;\n",
              "      border: none;\n",
              "      border-radius: 50%;\n",
              "      cursor: pointer;\n",
              "      display: none;\n",
              "      fill: #1967D2;\n",
              "      height: 32px;\n",
              "      padding: 0 0 0 0;\n",
              "      width: 32px;\n",
              "    }\n",
              "\n",
              "    .colab-df-convert:hover {\n",
              "      background-color: #E2EBFA;\n",
              "      box-shadow: 0px 1px 2px rgba(60, 64, 67, 0.3), 0px 1px 3px 1px rgba(60, 64, 67, 0.15);\n",
              "      fill: #174EA6;\n",
              "    }\n",
              "\n",
              "    [theme=dark] .colab-df-convert {\n",
              "      background-color: #3B4455;\n",
              "      fill: #D2E3FC;\n",
              "    }\n",
              "\n",
              "    [theme=dark] .colab-df-convert:hover {\n",
              "      background-color: #434B5C;\n",
              "      box-shadow: 0px 1px 3px 1px rgba(0, 0, 0, 0.15);\n",
              "      filter: drop-shadow(0px 1px 2px rgba(0, 0, 0, 0.3));\n",
              "      fill: #FFFFFF;\n",
              "    }\n",
              "  </style>\n",
              "\n",
              "      <script>\n",
              "        const buttonEl =\n",
              "          document.querySelector('#df-f500217f-d4ae-4d40-80cb-ab95f41419c0 button.colab-df-convert');\n",
              "        buttonEl.style.display =\n",
              "          google.colab.kernel.accessAllowed ? 'block' : 'none';\n",
              "\n",
              "        async function convertToInteractive(key) {\n",
              "          const element = document.querySelector('#df-f500217f-d4ae-4d40-80cb-ab95f41419c0');\n",
              "          const dataTable =\n",
              "            await google.colab.kernel.invokeFunction('convertToInteractive',\n",
              "                                                     [key], {});\n",
              "          if (!dataTable) return;\n",
              "\n",
              "          const docLinkHtml = 'Like what you see? Visit the ' +\n",
              "            '<a target=\"_blank\" href=https://colab.research.google.com/notebooks/data_table.ipynb>data table notebook</a>'\n",
              "            + ' to learn more about interactive tables.';\n",
              "          element.innerHTML = '';\n",
              "          dataTable['output_type'] = 'display_data';\n",
              "          await google.colab.output.renderOutput(dataTable, element);\n",
              "          const docLink = document.createElement('div');\n",
              "          docLink.innerHTML = docLinkHtml;\n",
              "          element.appendChild(docLink);\n",
              "        }\n",
              "      </script>\n",
              "    </div>\n",
              "  </div>\n",
              "  "
            ]
          },
          "metadata": {},
          "execution_count": 18
        }
      ]
    },
    {
      "cell_type": "code",
      "source": [
        "features = ['GENDER','SPHEQ','ACD','LT','VCD','SPORTHR','DIOPTERHR','PARENTMY']\n",
        "X = data[features]\n",
        "y = data.MYOPIC"
      ],
      "metadata": {
        "id": "wsb9DjHXgzBf"
      },
      "execution_count": null,
      "outputs": []
    },
    {
      "cell_type": "code",
      "source": [
        "X.shape, y.shape"
      ],
      "metadata": {
        "colab": {
          "base_uri": "https://localhost:8080/"
        },
        "id": "vjgzDB9Qg2Kw",
        "outputId": "c98cf6d7-b05c-4c8f-c841-2574ee8c0c26"
      },
      "execution_count": null,
      "outputs": [
        {
          "output_type": "execute_result",
          "data": {
            "text/plain": [
              "((456, 8), (456,))"
            ]
          },
          "metadata": {},
          "execution_count": 25
        }
      ]
    },
    {
      "cell_type": "code",
      "source": [
        "dict_train_auc = {}\n",
        "dict_test_auc = {}\n",
        "dict_features_rank = {}"
      ],
      "metadata": {
        "id": "VM0GG6JPg6kK"
      },
      "execution_count": null,
      "outputs": []
    },
    {
      "cell_type": "markdown",
      "source": [
        "Standardize your dataset so that columns that contain larger values do not influence the outcome more than columns with smaller values."
      ],
      "metadata": {
        "id": "zGZAdfkdKLWh"
      }
    },
    {
      "cell_type": "code",
      "source": [
        "# Standardize the data\n",
        "X_scaled = StandardScaler().fit_transform(X)\n",
        "print(X_scaled[0:5])"
      ],
      "metadata": {
        "colab": {
          "base_uri": "https://localhost:8080/"
        },
        "id": "CxfKcmISipPM",
        "outputId": "0a6d07d9-e6a7-4cd9-a292-98f8dd966835"
      },
      "execution_count": null,
      "outputs": [
        {
          "output_type": "stream",
          "name": "stdout",
          "text": [
            "[[ 0.94451902 -1.4479022   0.58522006 -0.37205128 -0.93119354  4.24595755\n",
            "   0.60994449  1.40805138]\n",
            " [ 0.94451902 -0.38646675  0.63810297 -1.07833792 -0.03750285 -0.98689824\n",
            "  -0.82407545  1.40805138]\n",
            " [ 0.94451902  0.53183573 -0.41955509 -0.26544197  0.31088504  0.28940805\n",
            "  -0.69371001 -1.40805138]\n",
            " [ 0.94451902 -0.5199503   1.34320834  0.38754002 -0.88575164  0.79993056\n",
            "   0.80549266  0.        ]\n",
            " [-1.05873993  1.4404888  -1.46839933  0.01440745  0.06852824 -0.22111447\n",
            "   1.26177173  0.        ]]\n"
          ]
        }
      ]
    },
    {
      "cell_type": "markdown",
      "source": [
        " Apply Dimensionality Reduction\n",
        " \n",
        "Perform dimensionality reduction with PCA. How did the number of the features change?"
      ],
      "metadata": {
        "id": "1eLhDyOWKeEl"
      }
    },
    {
      "cell_type": "code",
      "source": [
        "# Initialize PCA model\n",
        "pca = PCA(n_components=0.90)\n",
        "\n",
        "# Use PCA to compress data\n",
        "X_pca = pca.fit_transform(X_scaled)\n",
        "\n",
        "# Print the number of features in the original and reduced datasets\n",
        "print('Number of features in original dataset:', X.shape[1])\n",
        "print('Number of features in reduced dataset:', X_pca.shape[1])"
      ],
      "metadata": {
        "colab": {
          "base_uri": "https://localhost:8080/"
        },
        "id": "FjiI7cYmir2j",
        "outputId": "2ba2fdbc-b63f-49cc-bb99-7f431f70fa5b"
      },
      "execution_count": null,
      "outputs": [
        {
          "output_type": "stream",
          "name": "stdout",
          "text": [
            "Number of features in original dataset: 8\n",
            "Number of features in reduced dataset: 7\n"
          ]
        }
      ]
    },
    {
      "cell_type": "markdown",
      "source": [
        "Setelah dilakukan reduksi dimensi dengan PCA pada dataset myopia, jumlah fitur berkurang empat, dari jumlah fitur asli pada dataset. Teknik ini mengurangi dimensi data sambil mempertahankan sebagian besar varians dalam kumpulan data, sehingga menghasilkan kumpulan fitur yang lebih mudah dikelola untuk analisis selanjutnya. Kurangi lebih lanjut dimensi dataset dengan t-SNE dan periksa hasilnya secara visual. Untuk melakukannya, jalankan t-SNE pada komponen utama, yang merupakan output dari transformasi PCA."
      ],
      "metadata": {
        "id": "SDgUOrEHL0Q_"
      }
    },
    {
      "cell_type": "code",
      "source": [
        "# Initialize t-SNE model\n",
        "tsne = TSNE(learning_rate=100)\n",
        "\n",
        "# Reduce dimensions \n",
        "tsne_features = tsne.fit_transform(X_pca)\n",
        "\n",
        "# Print the number of features\n",
        "print('Number of features in reduced dataset:',tsne_features.shape[1])"
      ],
      "metadata": {
        "colab": {
          "base_uri": "https://localhost:8080/"
        },
        "id": "KT8rTlIWjIG8",
        "outputId": "553c871e-350d-4d71-c172-89304f83ecfa"
      },
      "execution_count": null,
      "outputs": [
        {
          "output_type": "stream",
          "name": "stdout",
          "text": [
            "Number of features in reduced dataset: 2\n"
          ]
        }
      ]
    },
    {
      "cell_type": "markdown",
      "source": [
        "Perform a Cluster Analysis with K-means\n",
        "\n",
        "Create an elbow plot to identify the best number of clusters. Make sure to do the following:\n",
        "\n",
        "Use a for loop to determine the inertia for each k between 1 through 10."
      ],
      "metadata": {
        "id": "FYTh7BFKMIql"
      }
    },
    {
      "cell_type": "code",
      "source": [
        "inertia = []\n",
        "k = list(range(1, 11))\n",
        "\n",
        "# Calculate the inertia for the range of k values\n",
        "for i in k:\n",
        "    km = KMeans(n_clusters=i, random_state=0)\n",
        "    km.fit(X_transformed)\n",
        "    inertia.append(km.inertia_)\n",
        "\n",
        "# Create the Elbow Curve using hvPlot\n",
        "elbow_data = {\"k\": k, \"inertia\": inertia}\n",
        "df_elbow = pd.DataFrame(elbow_data)\n",
        "df_elbow.head()"
      ],
      "metadata": {
        "colab": {
          "base_uri": "https://localhost:8080/",
          "height": 206
        },
        "id": "4Dqa6BlSku0H",
        "outputId": "e621ce51-20a0-4b22-d563-cba262bd8d6f"
      },
      "execution_count": null,
      "outputs": [
        {
          "output_type": "execute_result",
          "data": {
            "text/plain": [
              "   k        inertia\n",
              "0  1  181082.968750\n",
              "1  2   57637.320312\n",
              "2  3   41071.574219\n",
              "3  4   29804.001953\n",
              "4  5   24108.765625"
            ],
            "text/html": [
              "\n",
              "  <div id=\"df-75a5bbf4-15e1-4d45-824e-d74da831a2a4\">\n",
              "    <div class=\"colab-df-container\">\n",
              "      <div>\n",
              "<style scoped>\n",
              "    .dataframe tbody tr th:only-of-type {\n",
              "        vertical-align: middle;\n",
              "    }\n",
              "\n",
              "    .dataframe tbody tr th {\n",
              "        vertical-align: top;\n",
              "    }\n",
              "\n",
              "    .dataframe thead th {\n",
              "        text-align: right;\n",
              "    }\n",
              "</style>\n",
              "<table border=\"1\" class=\"dataframe\">\n",
              "  <thead>\n",
              "    <tr style=\"text-align: right;\">\n",
              "      <th></th>\n",
              "      <th>k</th>\n",
              "      <th>inertia</th>\n",
              "    </tr>\n",
              "  </thead>\n",
              "  <tbody>\n",
              "    <tr>\n",
              "      <th>0</th>\n",
              "      <td>1</td>\n",
              "      <td>181082.968750</td>\n",
              "    </tr>\n",
              "    <tr>\n",
              "      <th>1</th>\n",
              "      <td>2</td>\n",
              "      <td>57637.320312</td>\n",
              "    </tr>\n",
              "    <tr>\n",
              "      <th>2</th>\n",
              "      <td>3</td>\n",
              "      <td>41071.574219</td>\n",
              "    </tr>\n",
              "    <tr>\n",
              "      <th>3</th>\n",
              "      <td>4</td>\n",
              "      <td>29804.001953</td>\n",
              "    </tr>\n",
              "    <tr>\n",
              "      <th>4</th>\n",
              "      <td>5</td>\n",
              "      <td>24108.765625</td>\n",
              "    </tr>\n",
              "  </tbody>\n",
              "</table>\n",
              "</div>\n",
              "      <button class=\"colab-df-convert\" onclick=\"convertToInteractive('df-75a5bbf4-15e1-4d45-824e-d74da831a2a4')\"\n",
              "              title=\"Convert this dataframe to an interactive table.\"\n",
              "              style=\"display:none;\">\n",
              "        \n",
              "  <svg xmlns=\"http://www.w3.org/2000/svg\" height=\"24px\"viewBox=\"0 0 24 24\"\n",
              "       width=\"24px\">\n",
              "    <path d=\"M0 0h24v24H0V0z\" fill=\"none\"/>\n",
              "    <path d=\"M18.56 5.44l.94 2.06.94-2.06 2.06-.94-2.06-.94-.94-2.06-.94 2.06-2.06.94zm-11 1L8.5 8.5l.94-2.06 2.06-.94-2.06-.94L8.5 2.5l-.94 2.06-2.06.94zm10 10l.94 2.06.94-2.06 2.06-.94-2.06-.94-.94-2.06-.94 2.06-2.06.94z\"/><path d=\"M17.41 7.96l-1.37-1.37c-.4-.4-.92-.59-1.43-.59-.52 0-1.04.2-1.43.59L10.3 9.45l-7.72 7.72c-.78.78-.78 2.05 0 2.83L4 21.41c.39.39.9.59 1.41.59.51 0 1.02-.2 1.41-.59l7.78-7.78 2.81-2.81c.8-.78.8-2.07 0-2.86zM5.41 20L4 18.59l7.72-7.72 1.47 1.35L5.41 20z\"/>\n",
              "  </svg>\n",
              "      </button>\n",
              "      \n",
              "  <style>\n",
              "    .colab-df-container {\n",
              "      display:flex;\n",
              "      flex-wrap:wrap;\n",
              "      gap: 12px;\n",
              "    }\n",
              "\n",
              "    .colab-df-convert {\n",
              "      background-color: #E8F0FE;\n",
              "      border: none;\n",
              "      border-radius: 50%;\n",
              "      cursor: pointer;\n",
              "      display: none;\n",
              "      fill: #1967D2;\n",
              "      height: 32px;\n",
              "      padding: 0 0 0 0;\n",
              "      width: 32px;\n",
              "    }\n",
              "\n",
              "    .colab-df-convert:hover {\n",
              "      background-color: #E2EBFA;\n",
              "      box-shadow: 0px 1px 2px rgba(60, 64, 67, 0.3), 0px 1px 3px 1px rgba(60, 64, 67, 0.15);\n",
              "      fill: #174EA6;\n",
              "    }\n",
              "\n",
              "    [theme=dark] .colab-df-convert {\n",
              "      background-color: #3B4455;\n",
              "      fill: #D2E3FC;\n",
              "    }\n",
              "\n",
              "    [theme=dark] .colab-df-convert:hover {\n",
              "      background-color: #434B5C;\n",
              "      box-shadow: 0px 1px 3px 1px rgba(0, 0, 0, 0.15);\n",
              "      filter: drop-shadow(0px 1px 2px rgba(0, 0, 0, 0.3));\n",
              "      fill: #FFFFFF;\n",
              "    }\n",
              "  </style>\n",
              "\n",
              "      <script>\n",
              "        const buttonEl =\n",
              "          document.querySelector('#df-75a5bbf4-15e1-4d45-824e-d74da831a2a4 button.colab-df-convert');\n",
              "        buttonEl.style.display =\n",
              "          google.colab.kernel.accessAllowed ? 'block' : 'none';\n",
              "\n",
              "        async function convertToInteractive(key) {\n",
              "          const element = document.querySelector('#df-75a5bbf4-15e1-4d45-824e-d74da831a2a4');\n",
              "          const dataTable =\n",
              "            await google.colab.kernel.invokeFunction('convertToInteractive',\n",
              "                                                     [key], {});\n",
              "          if (!dataTable) return;\n",
              "\n",
              "          const docLinkHtml = 'Like what you see? Visit the ' +\n",
              "            '<a target=\"_blank\" href=https://colab.research.google.com/notebooks/data_table.ipynb>data table notebook</a>'\n",
              "            + ' to learn more about interactive tables.';\n",
              "          element.innerHTML = '';\n",
              "          dataTable['output_type'] = 'display_data';\n",
              "          await google.colab.output.renderOutput(dataTable, element);\n",
              "          const docLink = document.createElement('div');\n",
              "          docLink.innerHTML = docLinkHtml;\n",
              "          element.appendChild(docLink);\n",
              "        }\n",
              "      </script>\n",
              "    </div>\n",
              "  </div>\n",
              "  "
            ]
          },
          "metadata": {},
          "execution_count": 60
        }
      ]
    },
    {
      "cell_type": "markdown",
      "source": [
        "If possible, determine where the elbow of the plot is, and at which value of k it appears."
      ],
      "metadata": {
        "id": "-gr7GqR3MXEI"
      }
    },
    {
      "cell_type": "code",
      "source": [
        "# Plot the elbow curve to find the best candidate(s) for k\n",
        "plt.plot(df_elbow['k'], df_elbow['inertia'])\n",
        "plt.xticks(range(1,11))\n",
        "plt.xlabel('Number of clusters')\n",
        "plt.ylabel('Inertia')\n",
        "plt.title('Elbow curve for myopia data')\n",
        "plt.show()"
      ],
      "metadata": {
        "colab": {
          "base_uri": "https://localhost:8080/",
          "height": 295
        },
        "id": "nF_IcNzuk3TK",
        "outputId": "1b269ebe-d06f-4693-c94f-bef031de7abe"
      },
      "execution_count": null,
      "outputs": [
        {
          "output_type": "display_data",
          "data": {
            "text/plain": [
              "<Figure size 432x288 with 1 Axes>"
            ],
            "image/png": "[encoded data removed]"
          },
          "metadata": {
            "needs_background": "light"
          }
        }
      ]
    },
    {
      "cell_type": "markdown",
      "source": [
        "Untuk memvisualisasikan cluster, fungsi khusus get_clusters() telah dibuat untuk melakukan pengelompokan K-Means dan menetapkan setiap titik data ke sebuah cluster. Data cluster yang dihasilkan disimpan dalam DataFrame baru yang disebut cluster_data, yang berisi fitur t-SNE dan label kelas dari dataset asli. Fungsi get_clusters() dipanggil dengan k=3 dan cluster_data sebagai masukan untuk melakukan pengelompokan K-Means. Data cluster yang dihasilkan kemudian divisualisasikan menggunakan plot pencar yang menampilkan fitur t-SNE pada sumbu x dan y, dengan label cluster yang diprediksi diberi kode warna sebagai titik."
      ],
      "metadata": {
        "id": "5MvzZ-5XMusS"
      }
    },
    {
      "cell_type": "code",
      "source": [
        "def get_clusters(k, data):\n",
        "    # Initialize the K-Means model\n",
        "    model = KMeans(n_clusters=k, random_state=0)\n",
        "\n",
        "    # Train the model\n",
        "    model.fit(data)\n",
        "\n",
        "    # Predict clusters\n",
        "    predictions = model.predict(data)\n",
        "\n",
        "    # Create new DataFrame with t-SNE features and predicted clusters\n",
        "    clustered_data = data.copy()\n",
        "    clustered_data['cluster'] = predictions\n",
        "\n",
        "    return clustered_data"
      ],
      "metadata": {
        "id": "mTZOzgQGlPJm"
      },
      "execution_count": null,
      "outputs": []
    },
    {
      "cell_type": "markdown",
      "source": [
        "Make a Recommendation\n",
        "\n",
        "Berdasarkan temuan Anda, tulis rekomendasi singkat (satu atau dua kalimat) untuk penyelia Anda di Notebook Jupyter Anda. Bisakah pasien dikelompokkan? Jika demikian, ke dalam berapa cluster? Berdasarkan analisis saya, tampaknya pasien dapat dikelompokkan menjadi tiga kelompok berbeda menggunakan pengelompokan K-Means pada fitur t-SNE. Saya sampai pada angka ini dengan memplot kurva siku dari nilai inersia untuk setiap k, yang menunjukkan bahwa titik siku berada pada k=3. Oleh karena itu, saya merekomendasikan pengelompokan pasien menjadi tiga kelompok untuk analisis lebih lanjut."
      ],
      "metadata": {
        "id": "WaPfw0E1MyHB"
      }
    }
  ]
}